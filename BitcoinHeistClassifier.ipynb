{
 "cells": [
  {
   "cell_type": "code",
   "execution_count": 1,
   "metadata": {},
   "outputs": [],
   "source": [
    "import numpy as np\n",
    "import matplotlib.pyplot as plt\n",
    "import seaborn as sns\n",
    "from sklearn.metrics import accuracy_score\n",
    "from sklearn.preprocessing import LabelEncoder\n",
    "from sklearn.preprocessing import StandardScaler\n",
    "from sklearn.tree import DecisionTreeClassifier\n",
    "import pandas as pd\n",
    "from sklearn.ensemble import AdaBoostClassifier\n",
    "from sklearn.ensemble import RandomForestClassifier"
   ]
  },
  {
   "cell_type": "code",
   "execution_count": 2,
   "metadata": {},
   "outputs": [],
   "source": [
    "LE = LabelEncoder()\n",
    "SS = StandardScaler()\n",
    "df = \"\""
   ]
  },
  {
   "cell_type": "code",
   "execution_count": 3,
   "metadata": {},
   "outputs": [],
   "source": [
    "def initialiseData():\n",
    "    df = pd.DataFrame(pd.read_csv('BitcoinHeistData.csv'))\n",
    "    df = df.dropna()\n",
    "    df = df.sample(frac=1,random_state=2).reset_index(drop=True)\n",
    "    return df"
   ]
  },
  {
   "cell_type": "code",
   "execution_count": 4,
   "metadata": {},
   "outputs": [],
   "source": [
    "df = initialiseData()"
   ]
  },
  {
   "cell_type": "code",
   "execution_count": 5,
   "metadata": {},
   "outputs": [],
   "source": [
    "def runDecisionTree(trainX, trainY, testX, testY,valX,valY):\n",
    "    maxHeight = [4,8,10,15,20]\n",
    "    i=0\n",
    "    while i < len(maxHeight):\n",
    "        dtc1 = DecisionTreeClassifier(criterion=\"gini\",max_depth=maxHeight[i],random_state=2)\n",
    "        dtc1.fit(trainX,trainY)\n",
    "        yPred = dtc1.predict(testX)\n",
    "        yPredVal = dtc1.predict(valX)\n",
    "        print(\"Accuracy for max height of tree = \",maxHeight[i],\" is \",accuracy_score(testY,yPred),\" for gini\")\n",
    "        print(\"Accuracy for max height of tree = \",maxHeight[i],\" is \",accuracy_score(valY,yPredVal),\" for gini on validation set\")\n",
    "        i+=1\n",
    "        \n",
    "    j=0\n",
    "    while j < len(maxHeight):\n",
    "        dtc2 = DecisionTreeClassifier(criterion=\"entropy\",max_depth=maxHeight[j],random_state=2)\n",
    "        dtc2.fit(trainX,trainY)\n",
    "        yPred = dtc2.predict(testX)\n",
    "        yPredVal = dtc2.predict(valX)\n",
    "        print(\"Accuracy for max height of tree = \",maxHeight[j],\" is \",accuracy_score(testY,yPred),\" for entropy\")\n",
    "        print(\"Accuracy for max height of tree = \",maxHeight[j],\" is \",accuracy_score(valY,yPredVal),\" for entropy on validation set\")\n",
    "        j+=1"
   ]
  },
  {
   "cell_type": "code",
   "execution_count": 6,
   "metadata": {},
   "outputs": [],
   "source": [
    "def modifyData(xTrainTemp,yTrainTemp,trainTemp,i):\n",
    "        trainTemp = trainTemp.sample(frac=1,random_state=i).reset_index(drop=True)\n",
    "        xTrainTemp = trainTemp.drop(['label'],axis=1)\n",
    "        xTrainTemp = xTrainTemp[:int(len(df)*0.5)]\n",
    "        yTrainTemp = trainTemp['label']\n",
    "        yTrainTemp = yTrainTemp[:int(len(df)*0.5)]\n",
    "        return xTrainTemp,yTrainTemp"
   ]
  },
  {
   "cell_type": "code",
   "execution_count": 7,
   "metadata": {},
   "outputs": [],
   "source": [
    "def runEnsembling(trainX,trainY,testX,testY,valX,valY):\n",
    "    noError = 0\n",
    "    res = []\n",
    "    resVal =[]\n",
    "    xTrainTemp = trainX.copy()\n",
    "    yTrainTemp = trainY.copy()\n",
    "    trainTemp = pd.concat([xTrainTemp,yTrainTemp],axis=1)\n",
    "    i=0\n",
    "    while i < 100:\n",
    "        xTrainTemp,yTrainTemp = modifyData(xTrainTemp,yTrainTemp,trainTemp,i)\n",
    "        dtc = DecisionTreeClassifier(criterion=\"entropy\",max_depth=3,random_state=i,splitter=\"random\")\n",
    "        dtc.fit(xTrainTemp,yTrainTemp)\n",
    "        yPred = dtc.predict(testX)\n",
    "        res.append(yPred)\n",
    "        yValPred = dtc.predict(valX)\n",
    "        resVal.append(yValPred)\n",
    "        i+=1\n",
    "    resNew = []\n",
    "    resNewVal = []\n",
    "    for i in res:\n",
    "        resNew.append(np.array(i))\n",
    "    \n",
    "    for i in resVal:\n",
    "        resNewVal.append(np.array(i))\n",
    "    resNew = (np.array(resNew)).T\n",
    "    resNewVal = (np.array(resNewVal)).T\n",
    "    i=0\n",
    "    while(i<resNew.shape[0]):\n",
    "        if np.bincount(resNew[i]).argmax() == testY.iloc[i]:\n",
    "            noError+=1\n",
    "        i+=1\n",
    "\n",
    "    i=0\n",
    "    noErrorVal = 0\n",
    "    while(i<resNewVal.shape[0]):\n",
    "        if np.bincount(resNewVal[i]).argmax() == valY.iloc[i]:\n",
    "            noErrorVal+=1\n",
    "        i+=1\n",
    "    print(\"Accuracy for ensemble is \",noError/len(testY))\n",
    "    print(\"Accuracy for ensemble on validation set is \",noErrorVal/len(valY))"
   ]
  },
  {
   "cell_type": "code",
   "execution_count": 8,
   "metadata": {},
   "outputs": [],
   "source": [
    "def runBoostingAdaBoost(trainX,trainY,testX,testY,valX,valY):\n",
    "    predictors = [4,8,10,15,20]\n",
    "    i=0\n",
    "    while i < len(predictors):\n",
    "        dtc = AdaBoostClassifier(n_estimators=predictors[i],random_state=2,base_estimator=DecisionTreeClassifier(criterion=\"entropy\",max_depth=15,random_state=2))\n",
    "        dtc.fit(trainX,trainY)\n",
    "        yPred = dtc.predict(testX)\n",
    "        yValPred = dtc.predict(valX)\n",
    "        print(\"Accuracy for number of predictors = \",predictors[i],\" is \",accuracy_score(testY,yPred),\" for AdaBoost\")\n",
    "        print(\"Accuracy for number of predictors = \",predictors[i],\" is \",accuracy_score(valY,yValPred),\" for AdaBoost on validation set\")\n",
    "        i+=1"
   ]
  },
  {
   "cell_type": "code",
   "execution_count": 9,
   "metadata": {},
   "outputs": [],
   "source": [
    "def runBoostingRF(trainX,trainY,testX,testY,valX,valY):\n",
    "    predictors = [4,8,10,15,20]\n",
    "    i=0\n",
    "    while i < len(predictors):\n",
    "        dtc = RandomForestClassifier(random_state=2,n_estimators=predictors[i],max_depth=15,criterion=\"entropy\")\n",
    "        dtc.fit(trainX,trainY)\n",
    "        yPred = dtc.predict(testX)\n",
    "        yValPred = dtc.predict(valX)\n",
    "        print(\"Accuracy for number of predictors = \",predictors[i],\" is \",accuracy_score(testY,yPred),\" for random forest\")\n",
    "        print(\"Accuracy for number of predictors = \",predictors[i],\" is \",accuracy_score(valY,yValPred),\" for random forest on validation set\")\n",
    "        i+=1"
   ]
  },
  {
   "cell_type": "code",
   "execution_count": 10,
   "metadata": {},
   "outputs": [],
   "source": [
    "df['label'] = LE.fit_transform(df['label']) \n",
    "df['address'] = LE.fit_transform(df['address'])\n",
    "\n",
    "df1 = df.drop(['label'], axis=1)\n",
    "labelTemp = df['label']\n",
    "\n",
    "trainX=df1[:int(len(df1)*0.7)]\n",
    "trainY= labelTemp[:int(len(labelTemp)*0.7)]\n",
    "\n",
    "valX = df1[int(len(df1)*0.7):int(len(df1)*0.85)]\n",
    "valY=labelTemp[int(len(labelTemp)*0.7):int(len(labelTemp)*0.85)]\n",
    "\n",
    "testX = df1[int(len(df1)*0.85):]\n",
    "testY =labelTemp[int(len(labelTemp)*0.85):]\n"
   ]
  },
  {
   "cell_type": "code",
   "execution_count": 11,
   "metadata": {},
   "outputs": [
    {
     "name": "stdout",
     "output_type": "stream",
     "text": [
      "Accuracy for max height of tree =  4  is  0.9858378761385584  for gini\n",
      "Accuracy for max height of tree =  4  is  0.9859087324716289  for gini on validation set\n",
      "Accuracy for max height of tree =  8  is  0.9863567273516874  for gini\n",
      "Accuracy for max height of tree =  8  is  0.9864161552439401  for gini on validation set\n",
      "Accuracy for max height of tree =  10  is  0.9870492908652473  for gini\n",
      "Accuracy for max height of tree =  10  is  0.9871864321550611  for gini on validation set\n",
      "Accuracy for max height of tree =  15  is  0.9883612758711329  for gini\n",
      "Accuracy for max height of tree =  15  is  0.9884321322042033  for gini on validation set\n",
      "Accuracy for max height of tree =  20  is  0.988009279893944  for gini\n",
      "Accuracy for max height of tree =  20  is  0.9878287105290225  for gini on validation set\n",
      "Accuracy for max height of tree =  4  is  0.9857921623752871  for entropy\n",
      "Accuracy for max height of tree =  4  is  0.985840161826722  for entropy on validation set\n",
      "Accuracy for max height of tree =  8  is  0.9862287288145278  for entropy\n",
      "Accuracy for max height of tree =  8  is  0.9862790139541262  for entropy on validation set\n",
      "Accuracy for max height of tree =  10  is  0.9873761442726369  for entropy\n",
      "Accuracy for max height of tree =  10  is  0.9874561433583616  for entropy on validation set\n",
      "Accuracy for max height of tree =  15  is  0.9888961269014068  for entropy\n",
      "Accuracy for max height of tree =  15  is  0.9887544142352659  for entropy on validation set\n",
      "Accuracy for max height of tree =  20  is  0.9880024228294534  for entropy\n",
      "Accuracy for max height of tree =  20  is  0.9879589947543457  for entropy on validation set\n"
     ]
    }
   ],
   "source": [
    "runDecisionTree(trainX, trainY, testX, testY,valX,valY)"
   ]
  },
  {
   "cell_type": "code",
   "execution_count": 12,
   "metadata": {},
   "outputs": [
    {
     "name": "stdout",
     "output_type": "stream",
     "text": [
      "Accuracy for ensemble is  0.9857921623752871\n",
      "Accuracy for ensemble on validation set is  0.985840161826722\n"
     ]
    }
   ],
   "source": [
    "runEnsembling (trainX, trainY, testX, testY,valX=valX,valY=valY)"
   ]
  },
  {
   "cell_type": "code",
   "execution_count": null,
   "metadata": {},
   "outputs": [],
   "source": [
    "runBoostingAdaBoost(trainX, trainY, testX, testY,valX=valX,valY=valY)"
   ]
  },
  {
   "cell_type": "code",
   "execution_count": null,
   "metadata": {},
   "outputs": [],
   "source": [
    "runBoostingRF(trainX, trainY, testX, testY,valX=valX,valY=valY)"
   ]
  }
 ],
 "metadata": {
  "kernelspec": {
   "display_name": "Python 3.9.12 ('base')",
   "language": "python",
   "name": "python3"
  },
  "language_info": {
   "codemirror_mode": {
    "name": "ipython",
    "version": 3
   },
   "file_extension": ".py",
   "mimetype": "text/x-python",
   "name": "python",
   "nbconvert_exporter": "python",
   "pygments_lexer": "ipython3",
   "version": "3.9.12"
  },
  "orig_nbformat": 4,
  "vscode": {
   "interpreter": {
    "hash": "2075c97d54907e4ce0bb4b751e65d444874ef25bbe90d9b8c2daef915656c098"
   }
  }
 },
 "nbformat": 4,
 "nbformat_minor": 2
}
